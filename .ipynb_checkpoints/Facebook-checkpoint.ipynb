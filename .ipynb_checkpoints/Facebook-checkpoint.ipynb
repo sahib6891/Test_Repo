{
 "cells": [
  {
   "cell_type": "code",
   "execution_count": 55,
   "metadata": {},
   "outputs": [
    {
     "name": "stdout",
     "output_type": "stream",
     "text": [
      "The value of target: 9 is at index: [0, 1]\n",
      "The value of target: 9 is at index: [3, 4]\n"
     ]
    }
   ],
   "source": [
    "# Given a number and a array. Python code to find sum of any 2 numbers in a list is equal to a given number.\n",
    "\n",
    "def sum_nums(array, target):\n",
    "    # Check the length\n",
    "    # Case 1:\n",
    "    # 9 - 2 = 7 -> {7: 0}\n",
    "    # 9 - 7 = 2\n",
    "    # [array[num], num] = [0,1]\n",
    "    \n",
    "    # Case 2:\n",
    "    # 9 - 1 = 8 -> {8: 0}\n",
    "    # 9 - 3 = 6 -> {8: 0, 6: 1}\n",
    "    # 9 - 11 = -2 -> {8: 0, 6: 1, -2: 2}\n",
    "    # 9 - 2 = 7 -> {8: 0, 6: 1, -2: 2, 7: 3}\n",
    "    # [array[num], num] = [3, 4]\n",
    "    \n",
    "    if len(array) <= 1: \n",
    "        return False\n",
    "    \n",
    "    output_dict = dict()\n",
    "    for num in range(len(array)):\n",
    "        if array[num] in output_dict:\n",
    "            return 'The value of target: ' + str(target) + ' is at index: ' + str([output_dict[array[num]], num])\n",
    "        else:\n",
    "            output_dict[target - array[num]] = num\n",
    "    \n",
    "if __name__ == '__main__':\n",
    "    print(sum_nums([2, 7, 11, 15], 9))\n",
    "    print(sum_nums([1, 3, 11, 2, 7], 9))"
   ]
  },
  {
   "cell_type": "code",
   "execution_count": 79,
   "metadata": {},
   "outputs": [
    {
     "name": "stdout",
     "output_type": "stream",
     "text": [
      "The viewer watched the movies for 25 minutes\n"
     ]
    }
   ],
   "source": [
    "# Given a list of tuples of movie watched times, find how many unique minutes of the movie did the viewer watch e.g. [(0,15),(10,25)]. The viewer watched 25 minutes of the movie.\n",
    "\n",
    "def movie_time(array):\n",
    "    \n",
    "# 15 - 0 = 15 mins\n",
    "# 10 > 25:\n",
    "    # T:  25 - [1][0]\n",
    "    # F: 25 -15 = 10 mins\n",
    "# 15 + 10 = 25 mins \n",
    "    total_time = 0\n",
    "    sorted_array = sorted(array)\n",
    "    total_time = sorted_array[0][1] - sorted_array[0][0]\n",
    "    for i in range(len(sorted_array) -1):\n",
    "        if sorted_array[i+1][0] > sorted_array[i][1]:\n",
    "            total_time += sorted_array[i+1][1] - sorted_array[i+1][0]\n",
    "        else:\n",
    "            total_time += sorted_array[i+1][1] - sorted_array[i][1]\n",
    "    return 'The viewer watched the movies for ' + str(total_time) + ' minutes'\n",
    "\n",
    "if __name__ == '__main__':\n",
    "    print(movie_time([(0, 15), (10, 25)]))"
   ]
  },
  {
   "cell_type": "code",
   "execution_count": 9,
   "metadata": {},
   "outputs": [
    {
     "name": "stdout",
     "output_type": "stream",
     "text": [
      "2\n"
     ]
    }
   ],
   "source": [
    "# Out of the string (count) Hello world\n",
    "\n",
    "def count_word(input_string):\n",
    "    counter = 0\n",
    "    substring = 'hello world'\n",
    "    counter += input_string.lower().count(substring)\n",
    "    return counter\n",
    "\n",
    "if __name__ == '__main__':\n",
    "    print(count_word('Hello World! It is a beautiful hello world'))"
   ]
  },
  {
   "cell_type": "code",
   "execution_count": 53,
   "metadata": {},
   "outputs": [
    {
     "name": "stdout",
     "output_type": "stream",
     "text": [
      "2.6\n",
      "1.6666666666666667\n",
      "None\n"
     ]
    }
   ],
   "source": [
    "# Average length of letters to words\n",
    "\n",
    "def len_words(sentence):\n",
    "    for char in sentence:\n",
    "        if char in \" ,?.!/;:\":\n",
    "            sentence = sentence.replace(char, ' ')\n",
    "    if len(sentence) <= 1:\n",
    "        return None\n",
    "    words = sentence.split()\n",
    "    total_length = 0\n",
    "    for word in words:\n",
    "        total_length += len(word)\n",
    "    average = total_length / len(words)\n",
    "    return average\n",
    " \n",
    "if __name__ == '__main__':\n",
    "    print(len_words(\"Hi, my name is Bob\"))\n",
    "    print(len_words(\" I am ok\"))\n",
    "    print(len_words(' '))"
   ]
  },
  {
   "cell_type": "code",
   "execution_count": 57,
   "metadata": {},
   "outputs": [
    {
     "name": "stdout",
     "output_type": "stream",
     "text": [
      "Invalid\n"
     ]
    }
   ],
   "source": [
    "# Parse an ip address (This is a favourite FB question) \n",
    "\n",
    "# CORNER CASE : alphanumeric characters\n",
    "\n",
    "\n",
    "def IP_address(input_String):\n",
    "    parts = input_String.split('.')\n",
    "   \n",
    "    if len(parts) == 4:\n",
    "        for i in range(len(parts)):\n",
    "             if not parts[i].isdigit() or not 0 <= int(parts[i]) < 256 or \\\n",
    "                   (parts[i][0] == '0' and len(parts[i]) > 1):\n",
    "                return 'Invalid'\n",
    "        return 'Valid'\n",
    "      \n",
    "if __name__ == '__main__':\n",
    "    print(IP_address('A12.161.255.1'))"
   ]
  },
  {
   "cell_type": "code",
   "execution_count": 27,
   "metadata": {},
   "outputs": [
    {
     "name": "stdout",
     "output_type": "stream",
     "text": [
      "[(2, 4), (1, 5)]\n",
      "None\n"
     ]
    }
   ],
   "source": [
    "# Given a number and a array. Python code to find sum of any 2 numbers in a list is equal to a given number.\n",
    "def sum_add(input_array, number):\n",
    "    result = list()\n",
    "    while input_array:\n",
    "        element = input_array.pop()\n",
    "        diff = number - element\n",
    "        if diff in input_array:\n",
    "            result.append((diff, element))\n",
    "    result.reverse()\n",
    "    print(result)\n",
    "if __name__ == '__main__':\n",
    "    input = [1,2,3,4,5]\n",
    "    num = 6\n",
    "    print(sum_add(input, num))"
   ]
  },
  {
   "cell_type": "code",
   "execution_count": 28,
   "metadata": {},
   "outputs": [
    {
     "name": "stdout",
     "output_type": "stream",
     "text": [
      "['A', 'B', 'C', 'D', 'E', 'F', 'G']\n"
     ]
    }
   ],
   "source": [
    "l = [['A'],['B',['C']],['D','E',['F','G']]]\n",
    "output = list()\n",
    "def remove_list(l):\n",
    "    for i in l:\n",
    "        if type(i) == list:\n",
    "            remove_list(i)\n",
    "        else:\n",
    "            output.append(i)\n",
    "    return output\n",
    "print(remove_list(l))"
   ]
  },
  {
   "cell_type": "code",
   "execution_count": 30,
   "metadata": {},
   "outputs": [
    {
     "name": "stdout",
     "output_type": "stream",
     "text": [
      "[3, 4]\n"
     ]
    }
   ],
   "source": [
    "# Given a number and a array. Python code to find sum of any 2 numbers in a list is equal to a given number.\n",
    "def sum_add(input_array, number):\n",
    "    if len(input_array) <= 1:\n",
    "        return False\n",
    "    \n",
    "    output_dict = dict()\n",
    "    for i in range(len(input_array)):\n",
    "        if input_array[i] in output_dict:\n",
    "            return [output_dict[input_array[i]], i]\n",
    "        else:\n",
    "            output_dict[number - input_array[i]] = i\n",
    "    print(output_dict)\n",
    "if __name__ == '__main__':\n",
    "    input = [1, 3, 11, 2, 7]\n",
    "    num = 9\n",
    "    print(sum_add(input, num))"
   ]
  },
  {
   "cell_type": "code",
   "execution_count": 34,
   "metadata": {},
   "outputs": [
    {
     "name": "stdout",
     "output_type": "stream",
     "text": [
      "No\n",
      "Yes\n"
     ]
    }
   ],
   "source": [
    "def canFormPalindrome(strr): \n",
    "    \n",
    "# 1) Create a character list.\n",
    "# 2) Traverse the given string.\n",
    "# 3) For every character in the string, remove the character if the list already contains else add to the list.\n",
    "# 3) If the string length is even the list is expected to be empty.\n",
    "# 4) Or if the string length is odd the list size is expected to be 1\n",
    "# 5) On the above two conditions (3) or (4) return true else return false.\n",
    "      \n",
    "    # Create a listt \n",
    "    listt = [] \n",
    "      \n",
    "    # For each character in input strrings, \n",
    "    # remove character if listt contains \n",
    "    # else add character to listt \n",
    "    for i in range(len(strr)): \n",
    "        if (strr[i] in listt): \n",
    "            listt.remove(strr[i]) \n",
    "        else: \n",
    "            listt.append(strr[i]) \n",
    "              \n",
    "    # if character length is even listt is expected to be empty \n",
    "    # or if character length is odd listt size is expected to be 1 \n",
    "    if (len(strr)% 2 == 0 and len(listt) == 0 or \n",
    "        (len(strr) % 2 == 1 and len(listt) == 1)): \n",
    "        return True\n",
    "    else: \n",
    "        return False\n",
    "  \n",
    "# Driver code \n",
    "if (canFormPalindrome(\"civil\")): \n",
    "    print(\"Yes\") \n",
    "else: \n",
    "    print(\"No\") \n",
    "      \n",
    "if (canFormPalindrome(\"ivicc\")): \n",
    "    print(\"Yes\") \n",
    "else: \n",
    "    print(\"No\") "
   ]
  }
 ],
 "metadata": {
  "kernelspec": {
   "display_name": "Python 3",
   "language": "python",
   "name": "python3"
  },
  "language_info": {
   "codemirror_mode": {
    "name": "ipython",
    "version": 3
   },
   "file_extension": ".py",
   "mimetype": "text/x-python",
   "name": "python",
   "nbconvert_exporter": "python",
   "pygments_lexer": "ipython3",
   "version": "3.8.1"
  }
 },
 "nbformat": 4,
 "nbformat_minor": 4
}
