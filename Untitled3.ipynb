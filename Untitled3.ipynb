{
 "cells": [
  {
   "cell_type": "code",
   "execution_count": 5,
   "metadata": {},
   "outputs": [
    {
     "name": "stdout",
     "output_type": "stream",
     "text": [
      "Valid\n"
     ]
    }
   ],
   "source": [
    "#IP Address : '198.121.1.1' \n",
    "def check_Ip(address):\n",
    "  blocks = address.split('.')\n",
    "  if len(blocks) == 4:\n",
    "    for i in range(0, len(blocks)):\n",
    "      if not blocks[i].isdigit() or not 0<= int(blocks[i])<=255:\n",
    "        print(i)\n",
    "        return 'Invalid'\n",
    "  return 'Valid'\n",
    "\n",
    "if __name__ == '__main__':\n",
    "  print(check_Ip('198.111.1.1'))"
   ]
  }
 ],
 "metadata": {
  "kernelspec": {
   "display_name": "Python 3",
   "language": "python",
   "name": "python3"
  },
  "language_info": {
   "codemirror_mode": {
    "name": "ipython",
    "version": 3
   },
   "file_extension": ".py",
   "mimetype": "text/x-python",
   "name": "python",
   "nbconvert_exporter": "python",
   "pygments_lexer": "ipython3",
   "version": "3.8.1"
  }
 },
 "nbformat": 4,
 "nbformat_minor": 4
}
