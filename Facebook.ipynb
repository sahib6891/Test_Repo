{
 "cells": [
  {
   "cell_type": "code",
   "execution_count": 55,
   "metadata": {},
   "outputs": [
    {
     "name": "stdout",
     "output_type": "stream",
     "text": [
      "The value of target: 9 is at index: [0, 1]\n",
      "The value of target: 9 is at index: [3, 4]\n"
     ]
    }
   ],
   "source": [
    "# Given a number and a array. Python code to find sum of any 2 numbers in a list is equal to a given number.\n",
    "\n",
    "def sum_nums(array, target):\n",
    "    # Check the length\n",
    "    # Case 1:\n",
    "    # 9 - 2 = 7 -> {7: 0}\n",
    "    # 9 - 7 = 2\n",
    "    # [array[num], num] = [0,1]\n",
    "    \n",
    "    # Case 2:\n",
    "    # 9 - 1 = 8 -> {8: 0}\n",
    "    # 9 - 3 = 6 -> {8: 0, 6: 1}\n",
    "    # 9 - 11 = -2 -> {8: 0, 6: 1, -2: 2}\n",
    "    # 9 - 2 = 7 -> {8: 0, 6: 1, -2: 2, 7: 3}\n",
    "    # [array[num], num] = [3, 4]\n",
    "    \n",
    "    if len(array) <= 1: \n",
    "        return False\n",
    "    \n",
    "    output_dict = dict()\n",
    "    for num in range(len(array)):\n",
    "        if array[num] in output_dict:\n",
    "            return 'The value of target: ' + str(target) + ' is at index: ' + str([output_dict[array[num]], num])\n",
    "        else:\n",
    "            output_dict[target - array[num]] = num\n",
    "    \n",
    "if __name__ == '__main__':\n",
    "    print(sum_nums([2, 7, 11, 15], 9))\n",
    "    print(sum_nums([1, 3, 11, 2, 7], 9))"
   ]
  },
  {
   "cell_type": "code",
   "execution_count": 79,
   "metadata": {},
   "outputs": [
    {
     "name": "stdout",
     "output_type": "stream",
     "text": [
      "The viewer watched the movies for 25 minutes\n"
     ]
    }
   ],
   "source": [
    "# Given a list of tuples of movie watched times, find how many unique minutes of the movie did the viewer watch e.g. [(0,15),(10,25)]. The viewer watched 25 minutes of the movie.\n",
    "\n",
    "def movie_time(array):\n",
    "    \n",
    "# 15 - 0 = 15 mins\n",
    "# 10 > 25:\n",
    "    # T:  25 - [1][0]\n",
    "    # F: 25 -15 = 10 mins\n",
    "# 15 + 10 = 25 mins \n",
    "    total_time = 0\n",
    "    sorted_array = sorted(array)\n",
    "    total_time = sorted_array[0][1] - sorted_array[0][0]\n",
    "    for i in range(len(sorted_array) -1):\n",
    "        if sorted_array[i+1][0] > sorted_array[i][1]:\n",
    "            total_time += sorted_array[i+1][1] - sorted_array[i+1][0]\n",
    "        else:\n",
    "            total_time += sorted_array[i+1][1] - sorted_array[i][1]\n",
    "    return 'The viewer watched the movies for ' + str(total_time) + ' minutes'\n",
    "\n",
    "if __name__ == '__main__':\n",
    "    print(movie_time([(0, 15), (10, 25)]))"
   ]
  },
  {
   "cell_type": "code",
   "execution_count": 9,
   "metadata": {},
   "outputs": [
    {
     "name": "stdout",
     "output_type": "stream",
     "text": [
      "2\n"
     ]
    }
   ],
   "source": [
    "# Out of the string (count) Hello world\n",
    "\n",
    "def count_word(input_string):\n",
    "    counter = 0\n",
    "    substring = 'hello world'\n",
    "    counter += input_string.lower().count(substring)\n",
    "    return counter\n",
    "\n",
    "if __name__ == '__main__':\n",
    "    print(count_word('Hello World! It is a beautiful hello world'))"
   ]
  },
  {
   "cell_type": "code",
   "execution_count": 3,
   "metadata": {},
   "outputs": [
    {
     "name": "stdout",
     "output_type": "stream",
     "text": [
      "2.6\n",
      "1.6666666666666667\n",
      "None\n"
     ]
    }
   ],
   "source": [
    "# Average length of letters to words\n",
    "\n",
    "def len_words(sentence):\n",
    "    for char in sentence:\n",
    "        if char in \" ,?.!/;:\":\n",
    "            sentence = sentence.replace(char, ' ')\n",
    "    if len(sentence) <= 1:\n",
    "        return None\n",
    "    words = sentence.split()\n",
    "    total_length = 0\n",
    "    for word in words:\n",
    "        total_length += len(word)\n",
    "    average = total_length / len(words)\n",
    "    return average\n",
    " \n",
    "if __name__ == '__main__':\n",
    "    print(len_words(\"Hi, my name is Bob\"))\n",
    "    print(len_words(\" I am ok\"))\n",
    "    print(len_words(' '))"
   ]
  },
  {
   "cell_type": "code",
   "execution_count": 24,
   "metadata": {},
   "outputs": [
    {
     "name": "stdout",
     "output_type": "stream",
     "text": [
      "2.6\n",
      "1.6666666666666667\n",
      "2.5\n",
      "Invalid String\n"
     ]
    }
   ],
   "source": [
    "def len_words(sentence):\n",
    "    bad_chars = [',', '.', '/', ';', ' ', ':', \"'\", '?']\n",
    "    for char in bad_chars:\n",
    "        sentence = sentence.replace(char, ' ')\n",
    "    if len(sentence) <= 1 or sentence == \"  \":\n",
    "        return 'Invalid String'\n",
    "    words = sentence.split()\n",
    "    length = 0\n",
    "    for word in words:\n",
    "        length += len(word)\n",
    "    average = length / len(words)\n",
    "    return average\n",
    " \n",
    "if __name__ == '__main__':\n",
    "    print(len_words(\"Hi, my name is Bob\"))\n",
    "    print(len_words(\"I am ok\"))\n",
    "    print(len_words(\"Hey? What's up?\"))\n",
    "    print(len_words(\"  \"))"
   ]
  },
  {
   "cell_type": "code",
   "execution_count": 20,
   "metadata": {},
   "outputs": [
    {
     "name": "stdout",
     "output_type": "stream",
     "text": [
      "('a', 4)\n"
     ]
    }
   ],
   "source": [
    "def fb_friends(array):\n",
    "    flat_ip = list()\n",
    "    output_dict = dict()\n",
    "    for sub_list in array:\n",
    "        if len(sub_list) <= 1:\n",
    "            output_dict[sub_list[0]] = 0\n",
    "            sub_list.pop()\n",
    "        for item in sub_list:\n",
    "            flat_ip.append(item)\n",
    "    for l in set(flat_ip):\n",
    "        output_dict[l] = flat_ip.count(l)\n",
    "    max_value = max(output_dict.values())\n",
    "    for k, v in output_dict.items():\n",
    "        if v == max_value:\n",
    "            max_key = k\n",
    "    return (max_key, max_value)\n",
    "#     return output_dict\n",
    "        \n",
    "if __name__ == '__main__':\n",
    "    print(fb_friends([['a', 'b'], ['a', 'c'], ['a', 'd'], ['e'], ['e','a']]))"
   ]
  },
  {
   "cell_type": "code",
   "execution_count": null,
   "metadata": {},
   "outputs": [],
   "source": [
    "def IP_address(address_string):\n",
    "    parts = address_string.split('.')\n",
    "    for i in range(len(parts)):\n",
    "        "
   ]
  },
  {
   "cell_type": "code",
   "execution_count": 57,
   "metadata": {},
   "outputs": [
    {
     "name": "stdout",
     "output_type": "stream",
     "text": [
      "Invalid\n"
     ]
    }
   ],
   "source": [
    "# Parse an ip address (This is a favourite FB question) \n",
    "\n",
    "# CORNER CASE : alphanumeric characters\n",
    "\n",
    "\n",
    "def IP_address(input_String):\n",
    "    parts = input_String.split('.')\n",
    "   \n",
    "    if len(parts) == 4:\n",
    "        for i in range(len(parts)):\n",
    "             if not parts[i].isdigit() or not 0 <= int(parts[i]) < 256 or \\\n",
    "                   (parts[i][0] == '0' and len(parts[i]) > 1):\n",
    "                return 'Invalid'\n",
    "        return 'Valid'\n",
    "      \n",
    "if __name__ == '__main__':\n",
    "    print(IP_address('A12.161.255.1'))"
   ]
  },
  {
   "cell_type": "code",
   "execution_count": 27,
   "metadata": {},
   "outputs": [
    {
     "name": "stdout",
     "output_type": "stream",
     "text": [
      "[(2, 4), (1, 5)]\n",
      "None\n"
     ]
    }
   ],
   "source": [
    "# Given a number and a array. Python code to find sum of any 2 numbers in a list is equal to a given number.\n",
    "def sum_add(input_array, number):\n",
    "    result = list()\n",
    "    while input_array:\n",
    "        element = input_array.pop()\n",
    "        diff = number - element\n",
    "        if diff in input_array:\n",
    "            result.append((diff, element))\n",
    "    result.reverse()\n",
    "    print(result)\n",
    "if __name__ == '__main__':\n",
    "    input = [1,2,3,4,5]\n",
    "    num = 6\n",
    "    print(sum_add(input, num))"
   ]
  },
  {
   "cell_type": "code",
   "execution_count": 28,
   "metadata": {},
   "outputs": [
    {
     "name": "stdout",
     "output_type": "stream",
     "text": [
      "['A', 'B', 'C', 'D', 'E', 'F', 'G']\n"
     ]
    }
   ],
   "source": [
    "l = [['A'],['B',['C']],['D','E',['F','G']]]\n",
    "output = list()\n",
    "def remove_list(l):\n",
    "    for i in l:\n",
    "        if type(i) == list:\n",
    "            remove_list(i)\n",
    "        else:\n",
    "            output.append(i)\n",
    "    return output\n",
    "print(remove_list(l))"
   ]
  },
  {
   "cell_type": "code",
   "execution_count": 30,
   "metadata": {},
   "outputs": [
    {
     "name": "stdout",
     "output_type": "stream",
     "text": [
      "[3, 4]\n"
     ]
    }
   ],
   "source": [
    "# Given a number and a array. Python code to find sum of any 2 numbers in a list is equal to a given number.\n",
    "def sum_add(input_array, number):\n",
    "    if len(input_array) <= 1:\n",
    "        return False\n",
    "    \n",
    "    output_dict = dict()\n",
    "    for i in range(len(input_array)):\n",
    "        if input_array[i] in output_dict:\n",
    "            return [output_dict[input_array[i]], i]\n",
    "        else:\n",
    "            output_dict[number - input_array[i]] = i\n",
    "    print(output_dict)\n",
    "if __name__ == '__main__':\n",
    "    input = [1, 3, 11, 2, 7]\n",
    "    num = 9\n",
    "    print(sum_add(input, num))"
   ]
  },
  {
   "cell_type": "code",
   "execution_count": 2,
   "metadata": {},
   "outputs": [
    {
     "name": "stdout",
     "output_type": "stream",
     "text": [
      "No\n",
      "Yes\n"
     ]
    }
   ],
   "source": [
    "def canFormPalindrome(strr): \n",
    "    \n",
    "# 1) Create a character list.\n",
    "# 2) Traverse the given string.\n",
    "# 3) For every character in the string, remove the character if the list already contains else add to the list.\n",
    "# 3) If the string length is even the list is expected to be empty.\n",
    "# 4) Or if the string length is odd the list size is expected to be 1\n",
    "# 5) On the above two conditions (3) or (4) return true else return false.\n",
    "      \n",
    "    # Create a listt \n",
    "    listt = [] \n",
    "      \n",
    "    # For each character in input strrings, \n",
    "    # remove character if listt contains \n",
    "    # else add character to listt \n",
    "    for i in range(len(strr)): \n",
    "        if (strr[i] in listt): \n",
    "            listt.remove(strr[i]) \n",
    "        else: \n",
    "            listt.append(strr[i]) \n",
    "              \n",
    "    # if character length is even listt is expected to be empty \n",
    "    # or if character length is odd listt size is expected to be 1 \n",
    "    if (len(strr)% 2 == 0 and len(listt) == 0 or \n",
    "        (len(strr) % 2 == 1 and len(listt) == 1)): \n",
    "        return True\n",
    "    else: \n",
    "        return False\n",
    "  \n",
    "# Driver code \n",
    "if (canFormPalindrome(\"civil\")): \n",
    "    print(\"Yes\") \n",
    "else: \n",
    "    print(\"No\") \n",
    "      \n",
    "if (canFormPalindrome(\"ivicc\")): \n",
    "    print(\"Yes\") \n",
    "else: \n",
    "    print(\"No\") "
   ]
  },
  {
   "cell_type": "code",
   "execution_count": 8,
   "metadata": {},
   "outputs": [],
   "source": [
    "# def almostIncreasingSequence(sequence):\n",
    "#     prev = sequence[0]\n",
    "#     counter = 0\n",
    "    \n",
    "#     for i in range(1, len(sequence)):\n",
    "#         if sequence[i] <= prev:\n",
    "#             counter += 1\n",
    "            \n",
    "#             if counter > 1: \n",
    "#                 return False\n",
    "            \n",
    "#             if (i < 2 ) or (sequence[i - 2] < sequence[i]):\n",
    "#                 prev = sequence[i]\n",
    "#         else:\n",
    "#             prev = sequence[i]\n",
    "#     return True\n",
    "\n",
    "            \n",
    "# if __name__ == '__main__':\n",
    "#     print(almostIncreasingSequence([1,3,2]))"
   ]
  },
  {
   "cell_type": "code",
   "execution_count": 21,
   "metadata": {},
   "outputs": [
    {
     "name": "stdout",
     "output_type": "stream",
     "text": [
      "4 2\n",
      "5 1\n",
      "None\n"
     ]
    }
   ],
   "source": [
    "# Python program to find if there are \n",
    "# two elements wtih given sum \n",
    "  \n",
    "# function to check for the given sum \n",
    "# in the array \n",
    "def check_this(array, target):\n",
    "    result = set()\n",
    "    for i in range(0, len(array)):\n",
    "        temp = target - array[i]\n",
    "        if (temp in result):\n",
    "            print(array[i], temp)\n",
    "        result.add(array[i])\n",
    "  \n",
    "# driver program to check the above function \n",
    "array = [1,2,3,4,5] \n",
    "target = 6\n",
    "print(check_this(array, target))"
   ]
  },
  {
   "cell_type": "code",
   "execution_count": 26,
   "metadata": {},
   "outputs": [
    {
     "name": "stdout",
     "output_type": "stream",
     "text": [
      "[67, 23, 23, 5, 0, -5, -6, -23]\n"
     ]
    }
   ],
   "source": [
    "data_list = [-5, -23, 5, 0, 23, -6, 23, 67]\n",
    "new_list = list()\n",
    "\n",
    "while data_list:\n",
    "    maximum = data_list[0]\n",
    "    for i in data_list:\n",
    "        if i > maximum:\n",
    "            maximum = i\n",
    "    new_list.append(maximum)\n",
    "    data_list.remove(maximum)\n",
    "print(new_list)"
   ]
  },
  {
   "cell_type": "code",
   "execution_count": 46,
   "metadata": {},
   "outputs": [
    {
     "name": "stdout",
     "output_type": "stream",
     "text": [
      "6\n"
     ]
    }
   ],
   "source": [
    "arr = [ 9, 4, 9, 6, 7, 4 ]\n",
    "def first_occurr(arr):\n",
    "    order = list()\n",
    "    op_dict = dict()\n",
    "    for num in arr:\n",
    "        if num in op_dict:\n",
    "            op_dict[num] += 1\n",
    "        else:\n",
    "            op_dict[num] = 1\n",
    "            order.append(num)\n",
    "    for first in order:\n",
    "        if op_dict[first] == 1:\n",
    "            return first\n",
    "print(first_occurr(arr))"
   ]
  },
  {
   "cell_type": "code",
   "execution_count": 50,
   "metadata": {},
   "outputs": [
    {
     "name": "stdout",
     "output_type": "stream",
     "text": [
      "20\n",
      "8\n",
      "----\n",
      "8\n",
      "4\n",
      "----\n",
      "4\n",
      "0\n",
      "----\n",
      "4\n"
     ]
    }
   ],
   "source": [
    "def test(a, b):\n",
    "    while b:\n",
    "        a, b = b, a%b\n",
    "        print(a)\n",
    "        print(b)\n",
    "        print('----')\n",
    "    return a\n",
    "print(test(8, 20))"
   ]
  },
  {
   "cell_type": "code",
   "execution_count": 2,
   "metadata": {},
   "outputs": [
    {
     "name": "stdout",
     "output_type": "stream",
     "text": [
      "6\n"
     ]
    }
   ],
   "source": [
    "def gcf(n1, n2):\n",
    "    if n1 > n2:\n",
    "        n1, n2 = n2, n1\n",
    "    for x in range(n1, 0, -1):\n",
    "        if n1 % x == 0 and n2 % x == 0:\n",
    "            return x \n",
    "print(gcf(18, 204))"
   ]
  },
  {
   "cell_type": "code",
   "execution_count": 7,
   "metadata": {},
   "outputs": [
    {
     "name": "stdout",
     "output_type": "stream",
     "text": [
      "{'a': 3, 'b': 2, 'c': 2, 'd': 1, 'e': 1, 'f': 1}\n"
     ]
    }
   ],
   "source": [
    "def graph_node(array):\n",
    "    output = dict()\n",
    "    for sub_list in array:\n",
    "        if len(sub_list) == 2:\n",
    "            if sub_list[0] in output.keys():\n",
    "                output[sub_list[0]] += 1\n",
    "            else:\n",
    "                output[sub_list[0]] = 1\n",
    "            if sub_list[1] in output.keys():\n",
    "                output[sub_list[1]] += 1\n",
    "            else:\n",
    "                output[sub_list[1]] = 1\n",
    "        else:\n",
    "            output[sub_list[0]] = 0\n",
    "    return output\n",
    "print(graph_node([['a', 'b'], ['b', 'c'], [\n",
    "      'a', 'c'], ['a', 'd'], ['e'], ['e', 'f']]))"
   ]
  },
  {
   "cell_type": "code",
   "execution_count": 10,
   "metadata": {},
   "outputs": [
    {
     "name": "stdout",
     "output_type": "stream",
     "text": [
      "['null', 2, 2, 4, 4, 6, 7, 8, 8]\n"
     ]
    }
   ],
   "source": [
    "list1 = ['null', 2, 'null', 4, 'null', 6, 7, 8, 'null']\n",
    "def append_list(list1):\n",
    "    result = list()\n",
    "    if list1[0] == 'null':\n",
    "        result.append(list1[0])\n",
    "    for i in range(1, len(list1)):\n",
    "        if list1[i] == 'null':\n",
    "            result.append(list1[i-1])\n",
    "        else:\n",
    "            result.append(list1[i])\n",
    "    return result\n",
    "print(append_list(list1))"
   ]
  },
  {
   "cell_type": "code",
   "execution_count": 12,
   "metadata": {},
   "outputs": [
    {
     "ename": "AttributeError",
     "evalue": "'builtin_function_or_method' object has no attribute 'set'",
     "output_type": "error",
     "traceback": [
      "\u001b[0;31m---------------------------------------------------------------------------\u001b[0m",
      "\u001b[0;31mAttributeError\u001b[0m                            Traceback (most recent call last)",
      "\u001b[0;32m<ipython-input-12-4c0ad9eb672a>\u001b[0m in \u001b[0;36m<module>\u001b[0;34m\u001b[0m\n\u001b[1;32m      8\u001b[0m \u001b[0ms2\u001b[0m \u001b[0;34m=\u001b[0m \u001b[0ms2\u001b[0m\u001b[0;34m.\u001b[0m\u001b[0msplit\u001b[0m\u001b[0;34m(\u001b[0m\u001b[0;34m)\u001b[0m\u001b[0;34m\u001b[0m\u001b[0;34m\u001b[0m\u001b[0m\n\u001b[1;32m      9\u001b[0m \u001b[0mresult\u001b[0m \u001b[0;34m=\u001b[0m \u001b[0mlist\u001b[0m\u001b[0;34m(\u001b[0m\u001b[0;34m)\u001b[0m\u001b[0;34m\u001b[0m\u001b[0;34m\u001b[0m\u001b[0m\n\u001b[0;32m---> 10\u001b[0;31m \u001b[0mcommon\u001b[0m \u001b[0;34m=\u001b[0m \u001b[0mlist\u001b[0m\u001b[0;34m(\u001b[0m\u001b[0mset\u001b[0m\u001b[0;34m(\u001b[0m\u001b[0ms1\u001b[0m\u001b[0;34m)\u001b[0m\u001b[0;34m.\u001b[0m\u001b[0mintersection\u001b[0m\u001b[0;34m.\u001b[0m\u001b[0mset\u001b[0m\u001b[0;34m(\u001b[0m\u001b[0ms2\u001b[0m\u001b[0;34m)\u001b[0m\u001b[0;34m)\u001b[0m\u001b[0;34m\u001b[0m\u001b[0;34m\u001b[0m\u001b[0m\n\u001b[0m\u001b[1;32m     11\u001b[0m \u001b[0;32mfor\u001b[0m \u001b[0mi\u001b[0m \u001b[0;32min\u001b[0m \u001b[0ms1\u001b[0m\u001b[0;34m:\u001b[0m\u001b[0;34m\u001b[0m\u001b[0;34m\u001b[0m\u001b[0m\n\u001b[1;32m     12\u001b[0m     \u001b[0;32mif\u001b[0m \u001b[0mi\u001b[0m \u001b[0;34m!=\u001b[0m \u001b[0mcommon\u001b[0m\u001b[0;34m[\u001b[0m\u001b[0;36m0\u001b[0m\u001b[0;34m]\u001b[0m\u001b[0;34m:\u001b[0m\u001b[0;34m\u001b[0m\u001b[0;34m\u001b[0m\u001b[0m\n",
      "\u001b[0;31mAttributeError\u001b[0m: 'builtin_function_or_method' object has no attribute 'set'"
     ]
    }
   ],
   "source": [
    "'''\n",
    "two strings\n",
    "words that do not match in both the strings\n",
    "'''\n",
    "s1 = 'Manpreet Singh'\n",
    "s2 = 'Singh Sahib'\n",
    "s1 = s1.split()\n",
    "s2 = s2.split()\n",
    "result = list()\n",
    "common = list(set(s1).intersection.set(s2))\n",
    "for i in s1:\n",
    "    if i != common[0]:\n",
    "        result.append(i)\n",
    "for i in s2:\n",
    "    if i != common[0]:\n",
    "        result.append(i)\n",
    "print(result)"
   ]
  }
 ],
 "metadata": {
  "kernelspec": {
   "display_name": "Python 3",
   "language": "python",
   "name": "python3"
  },
  "language_info": {
   "codemirror_mode": {
    "name": "ipython",
    "version": 3
   },
   "file_extension": ".py",
   "mimetype": "text/x-python",
   "name": "python",
   "nbconvert_exporter": "python",
   "pygments_lexer": "ipython3",
   "version": "3.8.1"
  }
 },
 "nbformat": 4,
 "nbformat_minor": 4
}
