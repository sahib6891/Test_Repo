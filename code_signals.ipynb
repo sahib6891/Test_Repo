{
 "cells": [
  {
   "cell_type": "code",
   "execution_count": 48,
   "metadata": {},
   "outputs": [
    {
     "name": "stdout",
     "output_type": "stream",
     "text": [
      "['abd', 'vcd', 'aba']\n"
     ]
    }
   ],
   "source": [
    "def allLongestStrings(inputArray):\n",
    "    length = max(len(x) for x in inputArray)\n",
    "    result = list()\n",
    "    for word in inputArray:\n",
    "        if len(word) == length:\n",
    "            result.append(word)\n",
    "    return result\n",
    "\n",
    "if __name__ == '__main__':\n",
    "    print(allLongestStrings([\"abd\", \"aa\", \"ad\", \"vcd\", \"aba\"]))"
   ]
  },
  {
   "cell_type": "code",
   "execution_count": 94,
   "metadata": {},
   "outputs": [
    {
     "name": "stdout",
     "output_type": "stream",
     "text": [
      "3\n"
     ]
    }
   ],
   "source": [
    "def commonCharacterCount(s1, s2):\n",
    "    word_s1 = set(s1)\n",
    "    counter = 0\n",
    "    for letter in word_s1:\n",
    "        s1_count = s1.count(letter)\n",
    "        s2_count = s2.count(letter)\n",
    "        counter += min(s1_count, s2_count)\n",
    "    return counter\n",
    "if __name__ == '__main__':\n",
    "    s1 = \"aabcc\"\n",
    "    s2 = \"adcaa\"\n",
    "    print(commonCharacterCount(s1, s2))"
   ]
  },
  {
   "cell_type": "code",
   "execution_count": 132,
   "metadata": {},
   "outputs": [
    {
     "name": "stdout",
     "output_type": "stream",
     "text": [
      "False\n"
     ]
    }
   ],
   "source": [
    "def isLucky(n):\n",
    "    input_list = list(str(n))\n",
    "    length = int(len(input_list)/2)\n",
    "    input_list_1 = input_list[:length]\n",
    "    input_list_2 = input_list[length:]\n",
    "    new_list_1 = list()\n",
    "    new_list_2 = list()\n",
    "    for i in input_list_1:\n",
    "        new_list_1.append(int(i))\n",
    "    for i in input_list_2:\n",
    "        new_list_2.append(int(i))\n",
    "    return sum(new_list_1) == sum(new_list_2)\n",
    "if __name__ == '__main__':\n",
    "    print(isLucky(239017))"
   ]
  },
  {
   "cell_type": "code",
   "execution_count": 174,
   "metadata": {},
   "outputs": [
    {
     "name": "stdout",
     "output_type": "stream",
     "text": [
      "[-1, 150, 160, 170, -1, -1, 180, 190]\n"
     ]
    }
   ],
   "source": [
    "def sortByHeight(a):\n",
    "    result = list()\n",
    "    sorted_list = sorted(a)\n",
    "    sorted_list = [x for x in sorted_list if x!= -1]\n",
    "    counter = 0\n",
    "    for index in range(len(a)):\n",
    "        if a[index] == -1:\n",
    "            pass\n",
    "        else:\n",
    "            a[index] = sorted_list[counter]\n",
    "            counter += 1 \n",
    "    return a \n",
    "if __name__ == '__main__':\n",
    "    print(sortByHeight([-1, 150, 190, 170, -1, -1, 160, 180]))"
   ]
  },
  {
   "cell_type": "code",
   "execution_count": 178,
   "metadata": {},
   "outputs": [
    {
     "name": "stdout",
     "output_type": "stream",
     "text": [
      "[-1, 150, 160, 170, -1, -1, 180, 190]\n",
      "None\n"
     ]
    }
   ],
   "source": [
    "def sortByHeight(a):\n",
    "    sorted_list = sorted([i for i in a if i > 0])\n",
    "    for index, value in enumerate(a):\n",
    "        if value == -1:\n",
    "            sorted_list.insert(index, value)\n",
    "    print(sorted_list)\n",
    "if __name__ == '__main__':\n",
    "    print(sortByHeight([-1, 150, 190, 170, -1, -1, 160, 180]))"
   ]
  },
  {
   "cell_type": "code",
   "execution_count": 208,
   "metadata": {},
   "outputs": [
    {
     "name": "stdout",
     "output_type": "stream",
     "text": [
      "foo(bar)bazmilb\n"
     ]
    }
   ],
   "source": [
    "def reverseInParentheses(inputString):\n",
    "    first_pos = inputString.rfind('(')\n",
    "    next_pos = inputString.rfind(')')\n",
    "    before_word = inputString[:first_pos]\n",
    "    after_word = inputString[next_pos+1:]\n",
    "    word = inputString[first_pos+1: next_pos]\n",
    "    reversed_word = word[::-1]\n",
    "    return before_word + reversed_word + after_word\n",
    "if __name__ == '__main__':\n",
    "    print(reverseInParentheses(\"foo(bar)baz(blim)\"))"
   ]
  },
  {
   "cell_type": "code",
   "execution_count": 215,
   "metadata": {},
   "outputs": [
    {
     "name": "stdout",
     "output_type": "stream",
     "text": [
      "0 f\n",
      "None\n"
     ]
    }
   ],
   "source": [
    "def reverseInParentheses(s):\n",
    "    char = list(s)\n",
    "    open_bracket_list = list()\n",
    "    for index, value in enumerate(char):\n",
    "        print(index, value)\n",
    "        break\n",
    "if __name__ == '__main__':\n",
    "    print(reverseInParentheses(\"foo(bar)baz(blim)\"))"
   ]
  },
  {
   "cell_type": "markdown",
   "metadata": {},
   "source": [
    "# Facebbok question Valid IP address\n"
   ]
  },
  {
   "cell_type": "code",
   "execution_count": 286,
   "metadata": {},
   "outputs": [
    {
     "name": "stdout",
     "output_type": "stream",
     "text": [
      "Valid\n"
     ]
    }
   ],
   "source": [
    "def IP_address(input_String):\n",
    "    parts = input_String.split('.')\n",
    "   \n",
    "    if len(parts) == 4:\n",
    "        for i in range(len(parts)):\n",
    "             if not parts[i].isdigit() or not 0 <= int(parts[i]) < 256 or \\\n",
    "                   (parts[i][0] == '0' and len(parts[i]) > 1):\n",
    "                return 'Invalid'\n",
    "        return 'Valid'\n",
    "      \n",
    "if __name__ == '__main__':\n",
    "    print(IP_address('172.161.255.1'))"
   ]
  }
 ],
 "metadata": {
  "kernelspec": {
   "display_name": "Python 3",
   "language": "python",
   "name": "python3"
  },
  "language_info": {
   "codemirror_mode": {
    "name": "ipython",
    "version": 3
   },
   "file_extension": ".py",
   "mimetype": "text/x-python",
   "name": "python",
   "nbconvert_exporter": "python",
   "pygments_lexer": "ipython3",
   "version": "3.8.1"
  }
 },
 "nbformat": 4,
 "nbformat_minor": 4
}
